{
  "nbformat": 4,
  "nbformat_minor": 0,
  "metadata": {
    "colab": {
      "provenance": [],
      "authorship_tag": "ABX9TyPBBGaas0emPl7IWAHCu0uh",
      "include_colab_link": true
    },
    "kernelspec": {
      "name": "python3",
      "display_name": "Python 3"
    },
    "language_info": {
      "name": "python"
    }
  },
  "cells": [
    {
      "cell_type": "markdown",
      "metadata": {
        "id": "view-in-github",
        "colab_type": "text"
      },
      "source": [
        "<a href=\"https://colab.research.google.com/github/AhsenRiaz/Numpy-And-Pandas/blob/main/00_intro_to_numpy.ipynb\" target=\"_parent\"><img src=\"https://colab.research.google.com/assets/colab-badge.svg\" alt=\"Open In Colab\"/></a>"
      ]
    },
    {
      "cell_type": "markdown",
      "source": [
        "# Numpy\n",
        "Numpy is a python library which is used to perform advance mathematical operations on its arrays."
      ],
      "metadata": {
        "id": "g1sNMym_YObJ"
      }
    },
    {
      "cell_type": "markdown",
      "source": [
        "# Numpy Arrays Vs Python List\n",
        "Numpy arrays are more faster to execute than python list. In this example we will see that."
      ],
      "metadata": {
        "id": "ReHV6iucYsQ6"
      }
    },
    {
      "cell_type": "code",
      "execution_count": null,
      "metadata": {
        "id": "gB1mE3GZX5VS"
      },
      "outputs": [],
      "source": [
        "import numpy as np # numpy library\n",
        "from time import process_time # provides various time related functions"
      ]
    },
    {
      "cell_type": "code",
      "source": [
        "python_list = [i for i in range(10000)];\n",
        "\n",
        "start_time = process_time();\n",
        "\n",
        "python_list = [i+5 for i in python_list]\n",
        "\n",
        "end_time = process_time()\n",
        "\n",
        "print(end_time - start_time)\n"
      ],
      "metadata": {
        "colab": {
          "base_uri": "https://localhost:8080/"
        },
        "id": "FZMsKUkVY9Yi",
        "outputId": "133cda02-dcee-4479-e75f-3e2744616d71"
      },
      "execution_count": null,
      "outputs": [
        {
          "output_type": "stream",
          "name": "stdout",
          "text": [
            "0.0011730070000002257\n"
          ]
        }
      ]
    },
    {
      "cell_type": "code",
      "source": [
        "np_array = np.array([i for i in range(10000)]);\n",
        "\n",
        "start_time = process_time();\n",
        "\n",
        "np_array += 5; # in numpy we can add constant to each element of array through this way\n",
        "\n",
        "end_time = process_time();\n",
        "\n",
        "print(end_time - start_time);"
      ],
      "metadata": {
        "colab": {
          "base_uri": "https://localhost:8080/"
        },
        "id": "T5xvDrXEZjcq",
        "outputId": "dd7197a8-06ce-4510-855b-8354b33987a2"
      },
      "execution_count": null,
      "outputs": [
        {
          "output_type": "stream",
          "name": "stdout",
          "text": [
            "0.00017472300000065388\n"
          ]
        }
      ]
    }
  ]
}