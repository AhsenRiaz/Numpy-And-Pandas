{
  "nbformat": 4,
  "nbformat_minor": 0,
  "metadata": {
    "colab": {
      "provenance": [],
      "authorship_tag": "ABX9TyOxVQGmOvFyPh5vxBzIWcE8",
      "include_colab_link": true
    },
    "kernelspec": {
      "name": "python3",
      "display_name": "Python 3"
    },
    "language_info": {
      "name": "python"
    }
  },
  "cells": [
    {
      "cell_type": "markdown",
      "metadata": {
        "id": "view-in-github",
        "colab_type": "text"
      },
      "source": [
        "<a href=\"https://colab.research.google.com/github/AhsenRiaz/Numpy-And_Pandas/blob/main/02_intro_to_panda.ipynb\" target=\"_parent\"><img src=\"https://colab.research.google.com/assets/colab-badge.svg\" alt=\"Open In Colab\"/></a>"
      ]
    },
    {
      "cell_type": "markdown",
      "source": [
        "# Pandas\n",
        "Pandas is a Python package providing fast, flexible data structures designed to make working with “relational” or “labeled” or you can say huge data sets.It is one of the most powerful data processing/manipulation tool.\n",
        "\n",
        "# Pandas Data Frame\n",
        "Pandas Datagrame is a 2 dimensional tabular data structure with labeled axis (rows and columns)"
      ],
      "metadata": {
        "id": "uJr8nLbo5hBw"
      }
    },
    {
      "cell_type": "code",
      "execution_count": null,
      "metadata": {
        "id": "z5zPH7sS5Y9Q"
      },
      "outputs": [],
      "source": [
        "import numpy as np\n",
        "import pandas as pd"
      ]
    },
    {
      "cell_type": "code",
      "source": [
        "sales_arr = [1402, 548, 1122]\n",
        "sales_arr"
      ],
      "metadata": {
        "id": "OxuDnWmT6U-z",
        "colab": {
          "base_uri": "https://localhost:8080/"
        },
        "outputId": "ea289798-7e9a-4126-fddf-c6c7693c390b"
      },
      "execution_count": null,
      "outputs": [
        {
          "output_type": "execute_result",
          "data": {
            "text/plain": [
              "[1402, 548, 1122]"
            ]
          },
          "metadata": {},
          "execution_count": 7
        }
      ]
    },
    {
      "cell_type": "markdown",
      "source": [
        "# Pandas Series\n",
        "using pandas series function we can assign labelled indexes to elements of array."
      ],
      "metadata": {
        "id": "UKgRkmdFCjAw"
      }
    },
    {
      "cell_type": "code",
      "source": [
        "sales_series = pd.Series(sales_arr);\n",
        "print(sales_series, \"\\n\")\n",
        "\n",
        "names = [\"Tom\", \"John\", \"Bob\"];\n",
        "sales_series = pd.Series(sales_arr, names);\n",
        "print(sales_series)"
      ],
      "metadata": {
        "id": "jndl7tvX9Swm",
        "colab": {
          "base_uri": "https://localhost:8080/"
        },
        "outputId": "fe14d028-1f17-409e-9267-bf8df8e51dc4"
      },
      "execution_count": null,
      "outputs": [
        {
          "output_type": "stream",
          "name": "stdout",
          "text": [
            "0    1402\n",
            "1     548\n",
            "2    1122\n",
            "dtype: int64 \n",
            "\n",
            "Tom     1402\n",
            "John     548\n",
            "Bob     1122\n",
            "dtype: int64\n"
          ]
        }
      ]
    },
    {
      "cell_type": "markdown",
      "source": [
        "Pandas Series using Dictionaries"
      ],
      "metadata": {
        "id": "P9HhcVDzEnyW"
      }
    },
    {
      "cell_type": "code",
      "source": [
        "sales = {\"Tom\": 1402, \"Ellie\": 548, \"Mike\": 1122}\n",
        "pd.Series(sales)"
      ],
      "metadata": {
        "colab": {
          "base_uri": "https://localhost:8080/"
        },
        "id": "RdTOp5EDDmev",
        "outputId": "108a2bac-b7cd-4c7c-a157-11fd2d94af67"
      },
      "execution_count": null,
      "outputs": [
        {
          "output_type": "execute_result",
          "data": {
            "text/plain": [
              "Tom      1402\n",
              "Ellie     548\n",
              "Mike     1122\n",
              "dtype: int64"
            ]
          },
          "metadata": {},
          "execution_count": 14
        }
      ]
    },
    {
      "cell_type": "markdown",
      "source": [
        "Pandas Series Operations"
      ],
      "metadata": {
        "id": "jB7nVAyMHjM8"
      }
    },
    {
      "cell_type": "code",
      "source": [
        "april_sales = {\"Ellie\": 1402, \"Tom\": 548, \"Mike\": 1122 }"
      ],
      "metadata": {
        "id": "lWLjYhc2E2TK"
      },
      "execution_count": null,
      "outputs": []
    },
    {
      "cell_type": "code",
      "source": [
        "may_sales = {\"Ellie\": 500, \"Tom\": 350, \"Ted\": 700}"
      ],
      "metadata": {
        "id": "toyieBAUHyXf"
      },
      "execution_count": null,
      "outputs": []
    },
    {
      "cell_type": "code",
      "source": [
        "april_Sales = pd.Series(april_sales)\n",
        "april_Sales"
      ],
      "metadata": {
        "colab": {
          "base_uri": "https://localhost:8080/"
        },
        "id": "Xp4MOViJH8gD",
        "outputId": "c3480156-db4f-44ab-fc52-3d9994a92a82"
      },
      "execution_count": null,
      "outputs": [
        {
          "output_type": "execute_result",
          "data": {
            "text/plain": [
              "Ellie    1402\n",
              "Tom       548\n",
              "Mike     1122\n",
              "dtype: int64"
            ]
          },
          "metadata": {},
          "execution_count": 20
        }
      ]
    },
    {
      "cell_type": "code",
      "source": [
        "may_Sales = pd.Series(may_sales)\n",
        "may_Sales"
      ],
      "metadata": {
        "colab": {
          "base_uri": "https://localhost:8080/"
        },
        "id": "w6SxVGEOIGuL",
        "outputId": "c2912cbf-682b-4945-9bba-59441d9a83d7"
      },
      "execution_count": null,
      "outputs": [
        {
          "output_type": "execute_result",
          "data": {
            "text/plain": [
              "Ellie    500\n",
              "Tom      350\n",
              "Ted      700\n",
              "dtype: int64"
            ]
          },
          "metadata": {},
          "execution_count": 22
        }
      ]
    },
    {
      "cell_type": "code",
      "source": [
        "total_Sales = april_Sales.add(may_Sales, fill_value = 0); # fill_value will print the unfounded keys as it is\n",
        "total_Sales"
      ],
      "metadata": {
        "colab": {
          "base_uri": "https://localhost:8080/"
        },
        "id": "TfTuVa0SIMmu",
        "outputId": "00fdb709-e087-4cd9-b2d2-638509ebc50f"
      },
      "execution_count": null,
      "outputs": [
        {
          "output_type": "execute_result",
          "data": {
            "text/plain": [
              "Ellie    1902.0\n",
              "Mike     1122.0\n",
              "Ted       700.0\n",
              "Tom       898.0\n",
              "dtype: float64"
            ]
          },
          "metadata": {},
          "execution_count": 26
        }
      ]
    }
  ]
}