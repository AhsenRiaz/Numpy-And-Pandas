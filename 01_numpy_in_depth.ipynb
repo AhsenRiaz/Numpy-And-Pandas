{
  "nbformat": 4,
  "nbformat_minor": 0,
  "metadata": {
    "colab": {
      "provenance": [],
      "authorship_tag": "ABX9TyMmYIzzK/sSkWFJx80cQpmH",
      "include_colab_link": true
    },
    "kernelspec": {
      "name": "python3",
      "display_name": "Python 3"
    },
    "language_info": {
      "name": "python"
    }
  },
  "cells": [
    {
      "cell_type": "markdown",
      "metadata": {
        "id": "view-in-github",
        "colab_type": "text"
      },
      "source": [
        "<a href=\"https://colab.research.google.com/github/AhsenRiaz/Numpy-And-Pandas/blob/main/01_numpy_in_depth.ipynb\" target=\"_parent\"><img src=\"https://colab.research.google.com/assets/colab-badge.svg\" alt=\"Open In Colab\"/></a>"
      ]
    },
    {
      "cell_type": "code",
      "execution_count": 1,
      "metadata": {
        "id": "z-WCo74iDWRe"
      },
      "outputs": [],
      "source": [
        "import numpy as np"
      ]
    },
    {
      "cell_type": "code",
      "source": [
        "# creating 1D numpy array\n",
        "a_np = np.array([1,2,3,4])\n",
        "print(a_np)\n",
        "a_np.shape"
      ],
      "metadata": {
        "colab": {
          "base_uri": "https://localhost:8080/"
        },
        "id": "LJxmfwksDiQ1",
        "outputId": "ce7c9f51-ad82-4ba2-d97f-342ed2f2fc50"
      },
      "execution_count": 3,
      "outputs": [
        {
          "output_type": "stream",
          "name": "stdout",
          "text": [
            "[1 2 3 4]\n"
          ]
        },
        {
          "output_type": "execute_result",
          "data": {
            "text/plain": [
              "(4,)"
            ]
          },
          "metadata": {},
          "execution_count": 3
        }
      ]
    },
    {
      "cell_type": "code",
      "source": [
        "B_np = np.array([[1,2,3], [4,5,6]])\n",
        "print(B_np)\n",
        "B_np.shape"
      ],
      "metadata": {
        "colab": {
          "base_uri": "https://localhost:8080/"
        },
        "id": "-BlY0_4aETSZ",
        "outputId": "e132e925-ea66-4335-feb7-cff4a2d93775"
      },
      "execution_count": 5,
      "outputs": [
        {
          "output_type": "stream",
          "name": "stdout",
          "text": [
            "[[1 2 3]\n",
            " [4 5 6]]\n"
          ]
        },
        {
          "output_type": "execute_result",
          "data": {
            "text/plain": [
              "(2, 3)"
            ]
          },
          "metadata": {},
          "execution_count": 5
        }
      ]
    },
    {
      "cell_type": "markdown",
      "source": [
        "Initial Placeholders"
      ],
      "metadata": {
        "id": "5kPb8BttF4iS"
      }
    },
    {
      "cell_type": "code",
      "source": [
        "c_np = np.zeros((4,5), dtype=float)\n",
        "c_np"
      ],
      "metadata": {
        "colab": {
          "base_uri": "https://localhost:8080/"
        },
        "id": "R-EWml18EmmC",
        "outputId": "fde3c1b3-b158-41b6-a0a5-e12e98dce5b6"
      },
      "execution_count": 9,
      "outputs": [
        {
          "output_type": "execute_result",
          "data": {
            "text/plain": [
              "array([[0., 0., 0., 0., 0.],\n",
              "       [0., 0., 0., 0., 0.],\n",
              "       [0., 0., 0., 0., 0.],\n",
              "       [0., 0., 0., 0., 0.]])"
            ]
          },
          "metadata": {},
          "execution_count": 9
        }
      ]
    },
    {
      "cell_type": "code",
      "source": [
        "d_np = np.ones((3,4));\n",
        "d_np"
      ],
      "metadata": {
        "colab": {
          "base_uri": "https://localhost:8080/"
        },
        "id": "zdm1t04iGBnm",
        "outputId": "8f5c828d-f24d-4e58-e5ee-5d2b9fe3935d"
      },
      "execution_count": 10,
      "outputs": [
        {
          "output_type": "execute_result",
          "data": {
            "text/plain": [
              "array([[1., 1., 1., 1.],\n",
              "       [1., 1., 1., 1.],\n",
              "       [1., 1., 1., 1.]])"
            ]
          },
          "metadata": {},
          "execution_count": 10
        }
      ]
    },
    {
      "cell_type": "code",
      "source": [
        "e_np = np.full((4,5), 7);\n",
        "e_np"
      ],
      "metadata": {
        "colab": {
          "base_uri": "https://localhost:8080/"
        },
        "id": "oc5sOG6jGQTV",
        "outputId": "4d336d35-f28f-473b-c614-18def5bb40cf"
      },
      "execution_count": 12,
      "outputs": [
        {
          "output_type": "execute_result",
          "data": {
            "text/plain": [
              "array([[7, 7, 7, 7, 7],\n",
              "       [7, 7, 7, 7, 7],\n",
              "       [7, 7, 7, 7, 7],\n",
              "       [7, 7, 7, 7, 7]])"
            ]
          },
          "metadata": {},
          "execution_count": 12
        }
      ]
    },
    {
      "cell_type": "code",
      "source": [
        "# create identity matrix - 3x3\n",
        "identity_np = np.eye((6))\n",
        "identity_np"
      ],
      "metadata": {
        "colab": {
          "base_uri": "https://localhost:8080/"
        },
        "id": "g20ukl8NGhGq",
        "outputId": "72f9f20b-90dd-447c-ca8c-06e03f263757"
      },
      "execution_count": 14,
      "outputs": [
        {
          "output_type": "execute_result",
          "data": {
            "text/plain": [
              "array([[1., 0., 0., 0., 0., 0.],\n",
              "       [0., 1., 0., 0., 0., 0.],\n",
              "       [0., 0., 1., 0., 0., 0.],\n",
              "       [0., 0., 0., 1., 0., 0.],\n",
              "       [0., 0., 0., 0., 1., 0.],\n",
              "       [0., 0., 0., 0., 0., 1.]])"
            ]
          },
          "metadata": {},
          "execution_count": 14
        }
      ]
    },
    {
      "cell_type": "code",
      "source": [
        "# a numpy array of random values\n",
        "random_np = np.random.random((4,5))\n",
        "print(random_np)"
      ],
      "metadata": {
        "colab": {
          "base_uri": "https://localhost:8080/"
        },
        "id": "a5vEsbwWG1o0",
        "outputId": "3b9ee812-209e-4d0c-ac5b-da5fefa135a9"
      },
      "execution_count": 16,
      "outputs": [
        {
          "output_type": "stream",
          "name": "stdout",
          "text": [
            "[[0.98839424 0.62266063 0.53815066 0.7249151  0.83213993]\n",
            " [0.42310847 0.50443688 0.75151819 0.96927375 0.69897487]\n",
            " [0.3656327  0.90927466 0.38112987 0.70575898 0.2330206 ]\n",
            " [0.1028046  0.05271704 0.44558579 0.10707447 0.56231061]]\n"
          ]
        }
      ]
    },
    {
      "cell_type": "code",
      "source": [
        "# a numpy array of random integers\n",
        "randint_np = np.random.randint(1,5, (5,5));\n",
        "randint_np"
      ],
      "metadata": {
        "colab": {
          "base_uri": "https://localhost:8080/"
        },
        "id": "YguA90PsHUXv",
        "outputId": "09d95624-0be4-4614-d9f4-e9048878d645"
      },
      "execution_count": 19,
      "outputs": [
        {
          "output_type": "execute_result",
          "data": {
            "text/plain": [
              "array([[1, 3, 3, 4, 3],\n",
              "       [4, 4, 2, 3, 2],\n",
              "       [3, 4, 1, 1, 2],\n",
              "       [4, 3, 4, 2, 4],\n",
              "       [3, 2, 4, 2, 2]])"
            ]
          },
          "metadata": {},
          "execution_count": 19
        }
      ]
    },
    {
      "cell_type": "code",
      "source": [
        "a_linsp_np = np.linspace(10,30,6) # break 10 and 30 intro 6 elements\n",
        "a_linsp_np"
      ],
      "metadata": {
        "colab": {
          "base_uri": "https://localhost:8080/"
        },
        "id": "LEPPeJKsIAze",
        "outputId": "a6b1159e-de2b-4c90-920e-e7e21177d167"
      },
      "execution_count": 20,
      "outputs": [
        {
          "output_type": "execute_result",
          "data": {
            "text/plain": [
              "array([10., 14., 18., 22., 26., 30.])"
            ]
          },
          "metadata": {},
          "execution_count": 20
        }
      ]
    },
    {
      "cell_type": "code",
      "source": [
        "b_arng_np = np.arange(10,30,5) # break and jump each element by 5 units exlusive of the last\n",
        "b_arng_np"
      ],
      "metadata": {
        "colab": {
          "base_uri": "https://localhost:8080/"
        },
        "id": "lUV73Tx2KQrR",
        "outputId": "cf6b69de-5ea1-4ad0-e0e2-bba51142870e"
      },
      "execution_count": 26,
      "outputs": [
        {
          "output_type": "execute_result",
          "data": {
            "text/plain": [
              "array([10, 15, 20, 25])"
            ]
          },
          "metadata": {},
          "execution_count": 26
        }
      ]
    },
    {
      "cell_type": "code",
      "source": [
        "# convert a list to numpy array\n",
        "a_list = [10,20,30,40,50];\n",
        "a_list_to_np = np.asarray(a_list)\n",
        "print(a_list_to_np)\n",
        "type(a_list_to_np)"
      ],
      "metadata": {
        "colab": {
          "base_uri": "https://localhost:8080/"
        },
        "id": "411wY1rBKfOr",
        "outputId": "b72ede69-ba80-47f6-a405-0cbf03850dec"
      },
      "execution_count": 31,
      "outputs": [
        {
          "output_type": "stream",
          "name": "stdout",
          "text": [
            "[10 20 30 40 50]\n"
          ]
        },
        {
          "output_type": "execute_result",
          "data": {
            "text/plain": [
              "numpy.ndarray"
            ]
          },
          "metadata": {},
          "execution_count": 31
        }
      ]
    },
    {
      "cell_type": "markdown",
      "source": [
        "Analysing Numpy array"
      ],
      "metadata": {
        "id": "gk44ieaOLSl6"
      }
    },
    {
      "cell_type": "code",
      "source": [
        "# a numpy array of random integers\n",
        "randint_np = np.random.randint(1,5, (5,5));\n",
        "print(randint_np)\n",
        "print(randint_np.shape)\n",
        "print(randint_np.ndim)\n",
        "print(randint_np.size)\n",
        "print(randint_np.dtype)\n"
      ],
      "metadata": {
        "colab": {
          "base_uri": "https://localhost:8080/"
        },
        "id": "5z7PjJX9LX1c",
        "outputId": "8332617d-a1be-4c82-cd2b-40fd9fa63775"
      },
      "execution_count": 35,
      "outputs": [
        {
          "output_type": "stream",
          "name": "stdout",
          "text": [
            "[[3 1 2 1 4]\n",
            " [3 1 4 3 2]\n",
            " [3 2 3 1 4]\n",
            " [2 2 2 2 1]\n",
            " [3 1 4 2 3]]\n",
            "(5, 5)\n",
            "2\n",
            "25\n",
            "int64\n"
          ]
        }
      ]
    },
    {
      "cell_type": "markdown",
      "source": [
        "Mathematical Operations"
      ],
      "metadata": {
        "id": "aptxjcj4NvuN"
      }
    },
    {
      "cell_type": "code",
      "source": [
        "a_np = np.random.randint(1,10, (3,3))\n",
        "a_np"
      ],
      "metadata": {
        "colab": {
          "base_uri": "https://localhost:8080/"
        },
        "id": "oSKLxfEVNdQX",
        "outputId": "99b4d816-968c-496c-d291-e12da07cbf35"
      },
      "execution_count": 36,
      "outputs": [
        {
          "output_type": "execute_result",
          "data": {
            "text/plain": [
              "array([[8, 5, 2],\n",
              "       [7, 1, 3],\n",
              "       [3, 4, 1]])"
            ]
          },
          "metadata": {},
          "execution_count": 36
        }
      ]
    },
    {
      "cell_type": "code",
      "source": [
        "b_np = np.random.randint(10,20, [3,3])\n",
        "b_np"
      ],
      "metadata": {
        "colab": {
          "base_uri": "https://localhost:8080/"
        },
        "id": "U6Rr0NpCPp5p",
        "outputId": "cdebc5ea-e623-42fa-a7de-ed6181b70b5a"
      },
      "execution_count": 37,
      "outputs": [
        {
          "output_type": "execute_result",
          "data": {
            "text/plain": [
              "array([[12, 18, 13],\n",
              "       [19, 18, 19],\n",
              "       [19, 15, 19]])"
            ]
          },
          "metadata": {},
          "execution_count": 37
        }
      ]
    },
    {
      "cell_type": "code",
      "source": [
        "c_np = np.add(a_np, b_np)\n",
        "c_np"
      ],
      "metadata": {
        "colab": {
          "base_uri": "https://localhost:8080/"
        },
        "id": "cEjf0jBLPwGO",
        "outputId": "176814a8-99ed-4716-f0c3-469e95fb0eeb"
      },
      "execution_count": 38,
      "outputs": [
        {
          "output_type": "execute_result",
          "data": {
            "text/plain": [
              "array([[20, 23, 15],\n",
              "       [26, 19, 22],\n",
              "       [22, 19, 20]])"
            ]
          },
          "metadata": {},
          "execution_count": 38
        }
      ]
    },
    {
      "cell_type": "code",
      "source": [
        "d_np = np.transpose(a_np);\n",
        "d_np"
      ],
      "metadata": {
        "colab": {
          "base_uri": "https://localhost:8080/"
        },
        "id": "3hnvwaciP0dV",
        "outputId": "9a250607-e50c-47af-b60e-01d471eb83f5"
      },
      "execution_count": 39,
      "outputs": [
        {
          "output_type": "execute_result",
          "data": {
            "text/plain": [
              "array([[8, 7, 3],\n",
              "       [5, 1, 4],\n",
              "       [2, 3, 1]])"
            ]
          },
          "metadata": {},
          "execution_count": 39
        }
      ]
    },
    {
      "cell_type": "markdown",
      "source": [
        "Numpy Array Reshaping"
      ],
      "metadata": {
        "id": "grBjw3arP_nE"
      }
    },
    {
      "cell_type": "code",
      "source": [
        "a_np = np.random.randint(1,10, (2,3))\n",
        "print(a_np)\n",
        "print(a_np.shape)"
      ],
      "metadata": {
        "colab": {
          "base_uri": "https://localhost:8080/"
        },
        "id": "8PKTaxd1P5kz",
        "outputId": "fb619a16-c0a5-434f-d41b-53675fea10c0"
      },
      "execution_count": 48,
      "outputs": [
        {
          "output_type": "stream",
          "name": "stdout",
          "text": [
            "[[2 1 2]\n",
            " [3 1 6]]\n",
            "(2, 3)\n"
          ]
        }
      ]
    },
    {
      "cell_type": "code",
      "source": [
        "b_np = a_np.reshape(3,2);\n",
        "print(b_np)\n",
        "print(b_np.shape)"
      ],
      "metadata": {
        "colab": {
          "base_uri": "https://localhost:8080/"
        },
        "id": "wusE3TSCQGGz",
        "outputId": "881a50b4-7ed3-434e-ef3a-1489c628931b"
      },
      "execution_count": 50,
      "outputs": [
        {
          "output_type": "stream",
          "name": "stdout",
          "text": [
            "[[2 1]\n",
            " [2 3]\n",
            " [1 6]]\n",
            "(3, 2)\n"
          ]
        }
      ]
    }
  ]
}